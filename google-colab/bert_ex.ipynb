{
  "cells": [
    {
      "cell_type": "code",
      "execution_count": 1,
      "metadata": {
        "colab": {
          "base_uri": "https://localhost:8080/"
        },
        "id": "X-1i5k9YFZkY",
        "outputId": "00d4a52d-d5f6-417d-d8c6-b846ccae9127"
      },
      "outputs": [
        {
          "output_type": "stream",
          "name": "stdout",
          "text": [
            "Mounted at /content/drive\n"
          ]
        }
      ],
      "source": [
        "from google.colab import drive\n",
        "drive.mount('/content/drive')"
      ]
    },
    {
      "cell_type": "code",
      "source": [
        "data_path = r'/content/drive/MyDrive/dataset/sentiment_analysis.csv'"
      ],
      "metadata": {
        "id": "TJ4F7XqUziBx"
      },
      "execution_count": 2,
      "outputs": []
    },
    {
      "cell_type": "code",
      "source": [
        "import numpy as np"
      ],
      "metadata": {
        "id": "A7zE07-URt0o"
      },
      "execution_count": 35,
      "outputs": []
    },
    {
      "cell_type": "code",
      "source": [
        "word2id = defaultdict(lambda: len(word2id))\n",
        "PAD=word2id['']"
      ],
      "metadata": {
        "id": "ren67uWEWUhc"
      },
      "execution_count": 131,
      "outputs": []
    },
    {
      "cell_type": "code",
      "source": [
        "sentences=[]\n",
        "labels=[]\n",
        "for line in open(data_path):\n",
        "  line=line.strip()\n",
        "  splits = line.split(',')\n",
        "  id=splits[0]\n",
        "  if id=='id':\n",
        "    continue\n",
        "  label=np.asarray([float(splits[1])])\n",
        "  sent=splits[2]\n",
        "  labels.append(label)\n",
        "  sentences.append(sent)\n",
        "\n",
        "data=[]\n",
        "\n",
        "for i in range(len(sentences)):\n",
        "  words=[]\n",
        "  actual_words=[]\n",
        "  for word in sentences[i].split(' '):\n",
        "\n",
        "    actual_words.append(word)\n",
        "    words.append(word2id[word])\n",
        "  words=np.asarray(words)\n",
        "  label=labels[i]\n",
        "  data.append(((words,actual_words),label))\n"
      ],
      "metadata": {
        "id": "6pks--zR0AYz"
      },
      "execution_count": 133,
      "outputs": []
    },
    {
      "cell_type": "code",
      "source": [
        "train=data[:4000]\n",
        "val=data[4000:6000]\n",
        "test=data[6000:]\n",
        "print(len(train),len(val),len(test))"
      ],
      "metadata": {
        "colab": {
          "base_uri": "https://localhost:8080/"
        },
        "id": "OpfSZcFz0I42",
        "outputId": "3029eea0-e8f1-4de1-bad8-1d3181fdd76a"
      },
      "execution_count": 134,
      "outputs": [
        {
          "output_type": "stream",
          "name": "stdout",
          "text": [
            "4000 2000 1920\n"
          ]
        }
      ]
    },
    {
      "cell_type": "code",
      "source": [
        "from torch.utils.data import Dataset"
      ],
      "metadata": {
        "id": "AXEqMjPDHNIK"
      },
      "execution_count": 135,
      "outputs": []
    },
    {
      "cell_type": "code",
      "source": [
        "def get_data(mode):\n",
        "  if mode=='train':\n",
        "    return train\n",
        "  elif mode=='val':\n",
        "    return val\n",
        "  elif mode=='test':\n",
        "    return test\n",
        "  else:\n",
        "    print('Mode is not set properly')\n",
        "    assert(False)"
      ],
      "metadata": {
        "id": "cnV52wW8HmaT"
      },
      "execution_count": 136,
      "outputs": []
    },
    {
      "cell_type": "code",
      "source": [
        "class SADataset(Dataset):\n",
        "  def __init__(self, mode):\n",
        "    self.data=get_data(mode)\n",
        "    self.len= len(self.data)\n",
        "  def __getitem__(self, index):\n",
        "    return self.data[index]\n",
        "  def __len__(self):\n",
        "    return self.len"
      ],
      "metadata": {
        "id": "IJz-9V0-HGEw"
      },
      "execution_count": 137,
      "outputs": []
    },
    {
      "cell_type": "code",
      "source": [
        "import torch\n",
        "from collections import defaultdict"
      ],
      "metadata": {
        "id": "wles0gCWKd4I"
      },
      "execution_count": 138,
      "outputs": []
    },
    {
      "cell_type": "code",
      "source": [],
      "metadata": {
        "id": "HrWu91sCMaD0"
      },
      "execution_count": 138,
      "outputs": []
    },
    {
      "cell_type": "code",
      "source": [
        "from torch.nn.utils.rnn import pad_sequence\n",
        "from transformers import BertTokenizer"
      ],
      "metadata": {
        "id": "CMjgU8fSMtC0"
      },
      "execution_count": 139,
      "outputs": []
    },
    {
      "cell_type": "code",
      "source": [
        "bert_tokenizer = BertTokenizer.from_pretrained('bert-base-uncased')"
      ],
      "metadata": {
        "id": "uJsVKX_eOMbY"
      },
      "execution_count": 140,
      "outputs": []
    },
    {
      "cell_type": "code",
      "source": [
        "from torch.utils.data import DataLoader"
      ],
      "metadata": {
        "id": "zyyrC-VwRP8Y"
      },
      "execution_count": 141,
      "outputs": []
    },
    {
      "cell_type": "code",
      "source": [
        "def get_loader(mode, shuffle=True):\n",
        "  dataset=SADataset(mode)\n",
        "\n",
        "  def collate_fn(batch):\n",
        "\n",
        "    batch=sorted(batch, key=lambda x: x[0][0].shape[0], reverse=True)\n",
        "    labels = torch.cat([torch.from_numpy(sample[1]) for sample in batch], dim=0)\n",
        "    sentences=pad_sequence([torch.LongTensor(sample[0][0]) for sample in batch], padding_value=PAD)\n",
        "\n",
        "    SENT_LEN = sentences.size(0)\n",
        "\n",
        "    labels = torch.cat([torch.from_numpy(sample[1]) for sample in batch], dim=0)\n",
        "\n",
        "    bert_details=[]\n",
        "    for sample in batch:\n",
        "      text=\" \".join(sample[0][1])\n",
        "\n",
        "      encoded_bert_sent=bert_tokenizer.encode_plus(\n",
        "                    text, max_length=SENT_LEN+2, add_special_tokens=True, pad_to_max_length=True)\n",
        "      bert_details.append(encoded_bert_sent)\n",
        "\n",
        "    bert_sentences = torch.LongTensor([sample[\"input_ids\"] for sample in bert_details])\n",
        "    bert_sentences_types = torch.LongTensor([sample[\"token_type_ids\"] for sample in bert_details])\n",
        "    bert_sentence_att_mask = torch.LongTensor([sample[\"attention_mask\"] for sample in bert_details])\n",
        "\n",
        "    return labels, bert_sentences, bert_sentences_types, bert_sentence_att_mask\n",
        "\n",
        "  data_loader = DataLoader(dataset=dataset,\n",
        "                           batch_size=64,\n",
        "                           shuffle=shuffle,\n",
        "                           collate_fn=collate_fn)\n",
        "\n",
        "  return data_loader\n",
        ""
      ],
      "metadata": {
        "id": "ww1TDvu3FoBs"
      },
      "execution_count": 148,
      "outputs": []
    },
    {
      "cell_type": "code",
      "source": [
        "train_data_loader = get_loader(mode='train', shuffle=True)"
      ],
      "metadata": {
        "id": "kv467NmFC77j"
      },
      "execution_count": 149,
      "outputs": []
    },
    {
      "cell_type": "code",
      "source": [
        "from transformers import BertConfig, BertModel"
      ],
      "metadata": {
        "id": "BDLZUeXkX3Db"
      },
      "execution_count": 156,
      "outputs": []
    },
    {
      "cell_type": "code",
      "source": [
        "bertconfig = BertConfig.from_pretrained('bert-base-uncased', output_hidden_states=True)\n",
        "bertmodel = BertModel.from_pretrained('bert-base-uncased', config=bertconfig)"
      ],
      "metadata": {
        "colab": {
          "base_uri": "https://localhost:8080/",
          "height": 49,
          "referenced_widgets": [
            "bad82678c4d9483dacf0913e0c2ef676",
            "1123e3d304b741feb170750f4907d0e4",
            "defb647ebe2a4a64842be3beee642b9d",
            "ed829fb7b9684560b24ad76b8d43b59c",
            "71dbab7600814f7994fad8212cd16879",
            "b25791295cae4f15b0f9b3d1ece93bda",
            "24bc83fa17704e7682e06c13b57710cc",
            "f86d698694ca47dda2befe2733b07019",
            "fd232a02042d4fc285785c9a19e01794",
            "ab1e08377a96439ea306c8233f361426",
            "fb1c3229e435498f851b7b07ce6e9c29"
          ]
        },
        "id": "BY-y6Q3MX_ht",
        "outputId": "f17fa24d-8034-49c2-e2eb-65f45bfbf678"
      },
      "execution_count": 158,
      "outputs": [
        {
          "output_type": "display_data",
          "data": {
            "text/plain": [
              "model.safetensors:   0%|          | 0.00/440M [00:00<?, ?B/s]"
            ],
            "application/vnd.jupyter.widget-view+json": {
              "version_major": 2,
              "version_minor": 0,
              "model_id": "bad82678c4d9483dacf0913e0c2ef676"
            }
          },
          "metadata": {}
        }
      ]
    },
    {
      "cell_type": "code",
      "source": [
        "for batch in train_data_loader:\n",
        "  label, bert_sent, bert_sent_type, bert_sent_mask = batch\n",
        "\n",
        "  bert_output=bertmodel(input_ids=bert_sent,\n",
        "                                attention_mask=bert_sent_mask,\n",
        "                                token_type_ids=bert_sent_type)\n",
        "\n",
        "  bert_output=bert_output[0]\n",
        "\n",
        "  batch_size = bert_output.shape[0]\n",
        "\n",
        "  masked_output=torch.mul(bert_sent_mask.unsqueeze(2), bert_output)\n",
        "  mask_len=torch.sum(bert_sent_mask, dim=1, keepdim=True)\n",
        "  bert_output=torch.sum(masked_output, dim=1, keepdim=False) / mask_len\n",
        "\n",
        "  print(bert_output.shape)\n",
        "  assert(False)"
      ],
      "metadata": {
        "colab": {
          "base_uri": "https://localhost:8080/",
          "height": 248
        },
        "id": "Miyh82U3RfBx",
        "outputId": "49c6a3be-984c-45b1-f085-73c41650840a"
      },
      "execution_count": 160,
      "outputs": [
        {
          "output_type": "stream",
          "name": "stderr",
          "text": [
            "/usr/local/lib/python3.10/dist-packages/transformers/tokenization_utils_base.py:2760: FutureWarning: The `pad_to_max_length` argument is deprecated and will be removed in a future version, use `padding=True` or `padding='longest'` to pad to the longest sequence in the batch, or use `padding='max_length'` to pad to a max length. In this case, you can give a specific length with `max_length` (e.g. `max_length=45`) or leave max_length to None to pad to the maximal input size of the model (e.g. 512 for Bert).\n",
            "  warnings.warn(\n"
          ]
        },
        {
          "output_type": "stream",
          "name": "stdout",
          "text": [
            "torch.Size([64, 768])\n"
          ]
        },
        {
          "output_type": "error",
          "ename": "AssertionError",
          "evalue": "",
          "traceback": [
            "\u001b[0;31m---------------------------------------------------------------------------\u001b[0m",
            "\u001b[0;31mAssertionError\u001b[0m                            Traceback (most recent call last)",
            "\u001b[0;32m<ipython-input-160-40c230a0732d>\u001b[0m in \u001b[0;36m<cell line: 1>\u001b[0;34m()\u001b[0m\n\u001b[1;32m     15\u001b[0m \u001b[0;34m\u001b[0m\u001b[0m\n\u001b[1;32m     16\u001b[0m   \u001b[0mprint\u001b[0m\u001b[0;34m(\u001b[0m\u001b[0mbert_output\u001b[0m\u001b[0;34m.\u001b[0m\u001b[0mshape\u001b[0m\u001b[0;34m)\u001b[0m\u001b[0;34m\u001b[0m\u001b[0;34m\u001b[0m\u001b[0m\n\u001b[0;32m---> 17\u001b[0;31m   \u001b[0;32massert\u001b[0m\u001b[0;34m(\u001b[0m\u001b[0;32mFalse\u001b[0m\u001b[0;34m)\u001b[0m\u001b[0;34m\u001b[0m\u001b[0;34m\u001b[0m\u001b[0m\n\u001b[0m",
            "\u001b[0;31mAssertionError\u001b[0m: "
          ]
        }
      ]
    },
    {
      "cell_type": "code",
      "source": [],
      "metadata": {
        "id": "khQ0deETRnci"
      },
      "execution_count": null,
      "outputs": []
    }
  ],
  "metadata": {
    "colab": {
      "provenance": []
    },
    "kernelspec": {
      "display_name": "Python 3",
      "name": "python3"
    },
    "language_info": {
      "name": "python"
    },
    "widgets": {
      "application/vnd.jupyter.widget-state+json": {
        "bad82678c4d9483dacf0913e0c2ef676": {
          "model_module": "@jupyter-widgets/controls",
          "model_name": "HBoxModel",
          "model_module_version": "1.5.0",
          "state": {
            "_dom_classes": [],
            "_model_module": "@jupyter-widgets/controls",
            "_model_module_version": "1.5.0",
            "_model_name": "HBoxModel",
            "_view_count": null,
            "_view_module": "@jupyter-widgets/controls",
            "_view_module_version": "1.5.0",
            "_view_name": "HBoxView",
            "box_style": "",
            "children": [
              "IPY_MODEL_1123e3d304b741feb170750f4907d0e4",
              "IPY_MODEL_defb647ebe2a4a64842be3beee642b9d",
              "IPY_MODEL_ed829fb7b9684560b24ad76b8d43b59c"
            ],
            "layout": "IPY_MODEL_71dbab7600814f7994fad8212cd16879"
          }
        },
        "1123e3d304b741feb170750f4907d0e4": {
          "model_module": "@jupyter-widgets/controls",
          "model_name": "HTMLModel",
          "model_module_version": "1.5.0",
          "state": {
            "_dom_classes": [],
            "_model_module": "@jupyter-widgets/controls",
            "_model_module_version": "1.5.0",
            "_model_name": "HTMLModel",
            "_view_count": null,
            "_view_module": "@jupyter-widgets/controls",
            "_view_module_version": "1.5.0",
            "_view_name": "HTMLView",
            "description": "",
            "description_tooltip": null,
            "layout": "IPY_MODEL_b25791295cae4f15b0f9b3d1ece93bda",
            "placeholder": "​",
            "style": "IPY_MODEL_24bc83fa17704e7682e06c13b57710cc",
            "value": "model.safetensors: 100%"
          }
        },
        "defb647ebe2a4a64842be3beee642b9d": {
          "model_module": "@jupyter-widgets/controls",
          "model_name": "FloatProgressModel",
          "model_module_version": "1.5.0",
          "state": {
            "_dom_classes": [],
            "_model_module": "@jupyter-widgets/controls",
            "_model_module_version": "1.5.0",
            "_model_name": "FloatProgressModel",
            "_view_count": null,
            "_view_module": "@jupyter-widgets/controls",
            "_view_module_version": "1.5.0",
            "_view_name": "ProgressView",
            "bar_style": "success",
            "description": "",
            "description_tooltip": null,
            "layout": "IPY_MODEL_f86d698694ca47dda2befe2733b07019",
            "max": 440449768,
            "min": 0,
            "orientation": "horizontal",
            "style": "IPY_MODEL_fd232a02042d4fc285785c9a19e01794",
            "value": 440449768
          }
        },
        "ed829fb7b9684560b24ad76b8d43b59c": {
          "model_module": "@jupyter-widgets/controls",
          "model_name": "HTMLModel",
          "model_module_version": "1.5.0",
          "state": {
            "_dom_classes": [],
            "_model_module": "@jupyter-widgets/controls",
            "_model_module_version": "1.5.0",
            "_model_name": "HTMLModel",
            "_view_count": null,
            "_view_module": "@jupyter-widgets/controls",
            "_view_module_version": "1.5.0",
            "_view_name": "HTMLView",
            "description": "",
            "description_tooltip": null,
            "layout": "IPY_MODEL_ab1e08377a96439ea306c8233f361426",
            "placeholder": "​",
            "style": "IPY_MODEL_fb1c3229e435498f851b7b07ce6e9c29",
            "value": " 440M/440M [00:05&lt;00:00, 65.2MB/s]"
          }
        },
        "71dbab7600814f7994fad8212cd16879": {
          "model_module": "@jupyter-widgets/base",
          "model_name": "LayoutModel",
          "model_module_version": "1.2.0",
          "state": {
            "_model_module": "@jupyter-widgets/base",
            "_model_module_version": "1.2.0",
            "_model_name": "LayoutModel",
            "_view_count": null,
            "_view_module": "@jupyter-widgets/base",
            "_view_module_version": "1.2.0",
            "_view_name": "LayoutView",
            "align_content": null,
            "align_items": null,
            "align_self": null,
            "border": null,
            "bottom": null,
            "display": null,
            "flex": null,
            "flex_flow": null,
            "grid_area": null,
            "grid_auto_columns": null,
            "grid_auto_flow": null,
            "grid_auto_rows": null,
            "grid_column": null,
            "grid_gap": null,
            "grid_row": null,
            "grid_template_areas": null,
            "grid_template_columns": null,
            "grid_template_rows": null,
            "height": null,
            "justify_content": null,
            "justify_items": null,
            "left": null,
            "margin": null,
            "max_height": null,
            "max_width": null,
            "min_height": null,
            "min_width": null,
            "object_fit": null,
            "object_position": null,
            "order": null,
            "overflow": null,
            "overflow_x": null,
            "overflow_y": null,
            "padding": null,
            "right": null,
            "top": null,
            "visibility": null,
            "width": null
          }
        },
        "b25791295cae4f15b0f9b3d1ece93bda": {
          "model_module": "@jupyter-widgets/base",
          "model_name": "LayoutModel",
          "model_module_version": "1.2.0",
          "state": {
            "_model_module": "@jupyter-widgets/base",
            "_model_module_version": "1.2.0",
            "_model_name": "LayoutModel",
            "_view_count": null,
            "_view_module": "@jupyter-widgets/base",
            "_view_module_version": "1.2.0",
            "_view_name": "LayoutView",
            "align_content": null,
            "align_items": null,
            "align_self": null,
            "border": null,
            "bottom": null,
            "display": null,
            "flex": null,
            "flex_flow": null,
            "grid_area": null,
            "grid_auto_columns": null,
            "grid_auto_flow": null,
            "grid_auto_rows": null,
            "grid_column": null,
            "grid_gap": null,
            "grid_row": null,
            "grid_template_areas": null,
            "grid_template_columns": null,
            "grid_template_rows": null,
            "height": null,
            "justify_content": null,
            "justify_items": null,
            "left": null,
            "margin": null,
            "max_height": null,
            "max_width": null,
            "min_height": null,
            "min_width": null,
            "object_fit": null,
            "object_position": null,
            "order": null,
            "overflow": null,
            "overflow_x": null,
            "overflow_y": null,
            "padding": null,
            "right": null,
            "top": null,
            "visibility": null,
            "width": null
          }
        },
        "24bc83fa17704e7682e06c13b57710cc": {
          "model_module": "@jupyter-widgets/controls",
          "model_name": "DescriptionStyleModel",
          "model_module_version": "1.5.0",
          "state": {
            "_model_module": "@jupyter-widgets/controls",
            "_model_module_version": "1.5.0",
            "_model_name": "DescriptionStyleModel",
            "_view_count": null,
            "_view_module": "@jupyter-widgets/base",
            "_view_module_version": "1.2.0",
            "_view_name": "StyleView",
            "description_width": ""
          }
        },
        "f86d698694ca47dda2befe2733b07019": {
          "model_module": "@jupyter-widgets/base",
          "model_name": "LayoutModel",
          "model_module_version": "1.2.0",
          "state": {
            "_model_module": "@jupyter-widgets/base",
            "_model_module_version": "1.2.0",
            "_model_name": "LayoutModel",
            "_view_count": null,
            "_view_module": "@jupyter-widgets/base",
            "_view_module_version": "1.2.0",
            "_view_name": "LayoutView",
            "align_content": null,
            "align_items": null,
            "align_self": null,
            "border": null,
            "bottom": null,
            "display": null,
            "flex": null,
            "flex_flow": null,
            "grid_area": null,
            "grid_auto_columns": null,
            "grid_auto_flow": null,
            "grid_auto_rows": null,
            "grid_column": null,
            "grid_gap": null,
            "grid_row": null,
            "grid_template_areas": null,
            "grid_template_columns": null,
            "grid_template_rows": null,
            "height": null,
            "justify_content": null,
            "justify_items": null,
            "left": null,
            "margin": null,
            "max_height": null,
            "max_width": null,
            "min_height": null,
            "min_width": null,
            "object_fit": null,
            "object_position": null,
            "order": null,
            "overflow": null,
            "overflow_x": null,
            "overflow_y": null,
            "padding": null,
            "right": null,
            "top": null,
            "visibility": null,
            "width": null
          }
        },
        "fd232a02042d4fc285785c9a19e01794": {
          "model_module": "@jupyter-widgets/controls",
          "model_name": "ProgressStyleModel",
          "model_module_version": "1.5.0",
          "state": {
            "_model_module": "@jupyter-widgets/controls",
            "_model_module_version": "1.5.0",
            "_model_name": "ProgressStyleModel",
            "_view_count": null,
            "_view_module": "@jupyter-widgets/base",
            "_view_module_version": "1.2.0",
            "_view_name": "StyleView",
            "bar_color": null,
            "description_width": ""
          }
        },
        "ab1e08377a96439ea306c8233f361426": {
          "model_module": "@jupyter-widgets/base",
          "model_name": "LayoutModel",
          "model_module_version": "1.2.0",
          "state": {
            "_model_module": "@jupyter-widgets/base",
            "_model_module_version": "1.2.0",
            "_model_name": "LayoutModel",
            "_view_count": null,
            "_view_module": "@jupyter-widgets/base",
            "_view_module_version": "1.2.0",
            "_view_name": "LayoutView",
            "align_content": null,
            "align_items": null,
            "align_self": null,
            "border": null,
            "bottom": null,
            "display": null,
            "flex": null,
            "flex_flow": null,
            "grid_area": null,
            "grid_auto_columns": null,
            "grid_auto_flow": null,
            "grid_auto_rows": null,
            "grid_column": null,
            "grid_gap": null,
            "grid_row": null,
            "grid_template_areas": null,
            "grid_template_columns": null,
            "grid_template_rows": null,
            "height": null,
            "justify_content": null,
            "justify_items": null,
            "left": null,
            "margin": null,
            "max_height": null,
            "max_width": null,
            "min_height": null,
            "min_width": null,
            "object_fit": null,
            "object_position": null,
            "order": null,
            "overflow": null,
            "overflow_x": null,
            "overflow_y": null,
            "padding": null,
            "right": null,
            "top": null,
            "visibility": null,
            "width": null
          }
        },
        "fb1c3229e435498f851b7b07ce6e9c29": {
          "model_module": "@jupyter-widgets/controls",
          "model_name": "DescriptionStyleModel",
          "model_module_version": "1.5.0",
          "state": {
            "_model_module": "@jupyter-widgets/controls",
            "_model_module_version": "1.5.0",
            "_model_name": "DescriptionStyleModel",
            "_view_count": null,
            "_view_module": "@jupyter-widgets/base",
            "_view_module_version": "1.2.0",
            "_view_name": "StyleView",
            "description_width": ""
          }
        }
      }
    }
  },
  "nbformat": 4,
  "nbformat_minor": 0
}